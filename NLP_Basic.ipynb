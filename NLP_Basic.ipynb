{
  "nbformat": 4,
  "nbformat_minor": 0,
  "metadata": {
    "colab": {
      "name": "NLP Basic.ipynb",
      "provenance": [],
      "collapsed_sections": []
    },
    "kernelspec": {
      "name": "python3",
      "display_name": "Python 3"
    }
  },
  "cells": [
    {
      "cell_type": "code",
      "metadata": {
        "id": "DysupchyVhP_",
        "outputId": "a607ebc2-47af-4681-8ae4-ea38bfdefdc5",
        "colab": {
          "base_uri": "https://localhost:8080/",
          "height": 51
        }
      },
      "source": [
        "!pip install nltk"
      ],
      "execution_count": null,
      "outputs": [
        {
          "output_type": "stream",
          "text": [
            "Requirement already satisfied: nltk in /usr/local/lib/python3.6/dist-packages (3.2.5)\n",
            "Requirement already satisfied: six in /usr/local/lib/python3.6/dist-packages (from nltk) (1.15.0)\n"
          ],
          "name": "stdout"
        }
      ]
    },
    {
      "cell_type": "code",
      "metadata": {
        "id": "GnoRzrKsVq04"
      },
      "source": [
        "import nltk\n",
        "#nltk.download('punkt')"
      ],
      "execution_count": null,
      "outputs": []
    },
    {
      "cell_type": "code",
      "metadata": {
        "id": "PSOC4jp36m6g",
        "outputId": "20a7e4b7-25dd-4705-e37b-e2ac24fd4798",
        "colab": {
          "base_uri": "https://localhost:8080/",
          "height": 34
        }
      },
      "source": [
        "str=\"I Am Indian\"\n",
        "str.split(' ')"
      ],
      "execution_count": null,
      "outputs": [
        {
          "output_type": "execute_result",
          "data": {
            "text/plain": [
              "['I', 'Am', 'Indian']"
            ]
          },
          "metadata": {
            "tags": []
          },
          "execution_count": 29
        }
      ]
    },
    {
      "cell_type": "code",
      "metadata": {
        "id": "-jWQoE7CV3rv",
        "outputId": "eaebd8d3-0881-47bb-a3e7-ac511ce89ddd",
        "colab": {
          "base_uri": "https://localhost:8080/",
          "height": 68
        }
      },
      "source": [
        "txt='''1.we have provided a short paragraph for this session. 2.we have provided a short paragraph for this session. 3.we have provided a short paragraph for this session.'''\n",
        "nltk.sent_tokenize(txt)\n"
      ],
      "execution_count": null,
      "outputs": [
        {
          "output_type": "execute_result",
          "data": {
            "text/plain": [
              "['1.we have provided a short paragraph for this session.',\n",
              " '2.we have provided a short paragraph for this session.',\n",
              " '3.we have provided a short paragraph for this session.']"
            ]
          },
          "metadata": {
            "tags": []
          },
          "execution_count": 36
        }
      ]
    },
    {
      "cell_type": "code",
      "metadata": {
        "id": "BipKB9mt6CuN",
        "outputId": "5cac0773-5225-49ba-fad7-7d12a6a061dc",
        "colab": {
          "base_uri": "https://localhost:8080/",
          "height": 187
        }
      },
      "source": [
        "txt='''we have provided a short paragraph for this session.'''\n",
        "nltk.word_tokenize(txt)"
      ],
      "execution_count": null,
      "outputs": [
        {
          "output_type": "execute_result",
          "data": {
            "text/plain": [
              "['we',\n",
              " 'have',\n",
              " 'provided',\n",
              " 'a',\n",
              " 'short',\n",
              " 'paragraph',\n",
              " 'for',\n",
              " 'this',\n",
              " 'session',\n",
              " '.']"
            ]
          },
          "metadata": {
            "tags": []
          },
          "execution_count": 26
        }
      ]
    },
    {
      "cell_type": "markdown",
      "metadata": {
        "id": "ME1r3QsN60Pj"
      },
      "source": [
        "**In natural language processing, useless words (data), are referred to as *`stop words`* such as “the”, “a”, “an”, “in”.**"
      ]
    },
    {
      "cell_type": "markdown",
      "metadata": {
        "id": "sFj0o-Sr7QLb"
      },
      "source": [
        "Removing stop words with NLTK"
      ]
    },
    {
      "cell_type": "code",
      "metadata": {
        "id": "TdlWDAg_7Asv",
        "outputId": "a9f5e2bf-e062-4fcf-fe6f-1b08dc4b0e65",
        "colab": {
          "base_uri": "https://localhost:8080/",
          "height": 85
        }
      },
      "source": [
        "from nltk.corpus import stopwords\n",
        "nltk.download('stopwords')\n",
        "#print(stopwords.words('english'))#Shows list of stopwords\n",
        "from nltk.tokenize import word_tokenize\n",
        "\n",
        "stop_words=set(stopwords.words('english'))\n",
        "txt=\"This is a sample sentence showing off the stop words filtration.\"\n",
        "word_tokens= word_tokenize(txt)\n",
        "print(word_tokenize(txt))\n",
        "filtered_sentence=[]\n",
        "for i in word_tokens:\n",
        "  if i not in stop_words:\n",
        "    filtered_sentence.append(i)\n",
        "\n",
        "print(filtered_sentence)"
      ],
      "execution_count": null,
      "outputs": [
        {
          "output_type": "stream",
          "text": [
            "[nltk_data] Downloading package stopwords to /root/nltk_data...\n",
            "[nltk_data]   Package stopwords is already up-to-date!\n",
            "['This', 'is', 'a', 'sample', 'sentence', 'showing', 'off', 'the', 'stop', 'words', 'filtration', '.']\n",
            "['This', 'sample', 'sentence', 'showing', 'stop', 'words', 'filtration', '.']\n"
          ],
          "name": "stdout"
        }
      ]
    },
    {
      "cell_type": "markdown",
      "metadata": {
        "id": "EusDxoAN_NJX"
      },
      "source": [
        "**Stemming** reduces the words to the root words such as “chocolates”, “chocolatey”, “choco” to the root word, “chocolate” .\n",
        "\n",
        "Disadvanategs:"
      ]
    },
    {
      "cell_type": "code",
      "metadata": {
        "id": "kzCn-Ijz_vrz",
        "outputId": "28c1f201-b98c-48e9-b1a4-912bd904dcd3",
        "colab": {
          "base_uri": "https://localhost:8080/",
          "height": 35
        }
      },
      "source": [
        "from nltk.stem import PorterStemmer\n",
        "from nltk.tokenize import word_tokenize\n",
        "\n",
        "ps=PorterStemmer()#Creating an object\n",
        "txt = \"Programers program with programing languages\"\n",
        "words = word_tokenize(txt) \n",
        "ps.stem(words[3])\n",
        "\n"
      ],
      "execution_count": null,
      "outputs": [
        {
          "output_type": "execute_result",
          "data": {
            "application/vnd.google.colaboratory.intrinsic+json": {
              "type": "string"
            },
            "text/plain": [
              "'program'"
            ]
          },
          "metadata": {
            "tags": []
          },
          "execution_count": 54
        }
      ]
    }
  ]
}